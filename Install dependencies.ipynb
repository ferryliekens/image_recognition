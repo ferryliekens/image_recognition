{
 "cells": [
  {
   "cell_type": "markdown",
   "id": "ae9d8f21",
   "metadata": {},
   "source": [
    "# Install all dependencies nessesary for running the project"
   ]
  },
  {
   "cell_type": "code",
   "execution_count": 1,
   "id": "9dcec5e4",
   "metadata": {},
   "outputs": [
    {
     "name": "stdout",
     "output_type": "stream",
     "text": [
      "Requirement already satisfied: opencv-python in d:\\productivity\\projects\\unityprojects\\image_recognition\\imagerecognition\\lib\\site-packages (4.5.2.54)\n",
      "Requirement already satisfied: numpy>=1.17.3 in d:\\productivity\\projects\\unityprojects\\image_recognition\\imagerecognition\\lib\\site-packages (from opencv-python) (1.19.5)\n",
      "Note: you may need to restart the kernel to use updated packages.\n"
     ]
    }
   ],
   "source": [
    "pip install opencv-python"
   ]
  },
  {
   "cell_type": "code",
   "execution_count": 2,
   "id": "8b8bec89",
   "metadata": {},
   "outputs": [
    {
     "name": "stdout",
     "output_type": "stream",
     "text": [
      "Requirement already satisfied: lxml in d:\\productivity\\projects\\unityprojects\\image_recognition\\imagerecognition\\lib\\site-packages (4.6.3)\n",
      "Note: you may need to restart the kernel to use updated packages.\n"
     ]
    }
   ],
   "source": [
    "pip install lxml"
   ]
  },
  {
   "cell_type": "code",
   "execution_count": 3,
   "id": "ada559d0",
   "metadata": {},
   "outputs": [
    {
     "name": "stdout",
     "output_type": "stream",
     "text": [
      "Requirement already satisfied: wget in d:\\productivity\\projects\\unityprojects\\image_recognition\\imagerecognition\\lib\\site-packages (3.2)\n",
      "Note: you may need to restart the kernel to use updated packages.\n"
     ]
    }
   ],
   "source": [
    "pip install wget"
   ]
  },
  {
   "cell_type": "code",
   "execution_count": 4,
   "id": "0fee5c8c",
   "metadata": {},
   "outputs": [
    {
     "name": "stdout",
     "output_type": "stream",
     "text": [
      "Requirement already satisfied: tensorflow in d:\\productivity\\projects\\unityprojects\\image_recognition\\imagerecognition\\lib\\site-packages (2.5.0)\n",
      "Requirement already satisfied: protobuf>=3.9.2 in d:\\productivity\\projects\\unityprojects\\image_recognition\\imagerecognition\\lib\\site-packages (from tensorflow) (3.17.3)\n",
      "Requirement already satisfied: numpy~=1.19.2 in d:\\productivity\\projects\\unityprojects\\image_recognition\\imagerecognition\\lib\\site-packages (from tensorflow) (1.19.5)\n",
      "Requirement already satisfied: grpcio~=1.34.0 in d:\\productivity\\projects\\unityprojects\\image_recognition\\imagerecognition\\lib\\site-packages (from tensorflow) (1.34.1)\n",
      "Requirement already satisfied: keras-preprocessing~=1.1.2 in d:\\productivity\\projects\\unityprojects\\image_recognition\\imagerecognition\\lib\\site-packages (from tensorflow) (1.1.2)\n",
      "Requirement already satisfied: google-pasta~=0.2 in d:\\productivity\\projects\\unityprojects\\image_recognition\\imagerecognition\\lib\\site-packages (from tensorflow) (0.2.0)\n",
      "Requirement already satisfied: h5py~=3.1.0 in d:\\productivity\\projects\\unityprojects\\image_recognition\\imagerecognition\\lib\\site-packages (from tensorflow) (3.1.0)\n",
      "Requirement already satisfied: flatbuffers~=1.12.0 in d:\\productivity\\projects\\unityprojects\\image_recognition\\imagerecognition\\lib\\site-packages (from tensorflow) (1.12)\n",
      "Requirement already satisfied: tensorflow-estimator<2.6.0,>=2.5.0rc0 in d:\\productivity\\projects\\unityprojects\\image_recognition\\imagerecognition\\lib\\site-packages (from tensorflow) (2.5.0)\n",
      "Requirement already satisfied: absl-py~=0.10 in d:\\productivity\\projects\\unityprojects\\image_recognition\\imagerecognition\\lib\\site-packages (from tensorflow) (0.13.0)\n",
      "Requirement already satisfied: astunparse~=1.6.3 in d:\\productivity\\projects\\unityprojects\\image_recognition\\imagerecognition\\lib\\site-packages (from tensorflow) (1.6.3)\n",
      "Requirement already satisfied: wheel~=0.35 in d:\\productivity\\projects\\unityprojects\\image_recognition\\imagerecognition\\lib\\site-packages (from tensorflow) (0.36.2)\n",
      "Requirement already satisfied: gast==0.4.0 in d:\\productivity\\projects\\unityprojects\\image_recognition\\imagerecognition\\lib\\site-packages (from tensorflow) (0.4.0)\n",
      "Requirement already satisfied: typing-extensions~=3.7.4 in d:\\productivity\\projects\\unityprojects\\image_recognition\\imagerecognition\\lib\\site-packages (from tensorflow) (3.7.4.3)\n",
      "Requirement already satisfied: tensorboard~=2.5 in d:\\productivity\\projects\\unityprojects\\image_recognition\\imagerecognition\\lib\\site-packages (from tensorflow) (2.5.0)\n",
      "Requirement already satisfied: six~=1.15.0 in d:\\productivity\\projects\\unityprojects\\image_recognition\\imagerecognition\\lib\\site-packages (from tensorflow) (1.15.0)\n",
      "Requirement already satisfied: wrapt~=1.12.1 in d:\\productivity\\projects\\unityprojects\\image_recognition\\imagerecognition\\lib\\site-packages (from tensorflow) (1.12.1)\n",
      "Requirement already satisfied: keras-nightly~=2.5.0.dev in d:\\productivity\\projects\\unityprojects\\image_recognition\\imagerecognition\\lib\\site-packages (from tensorflow) (2.5.0.dev2021032900)\n",
      "Requirement already satisfied: opt-einsum~=3.3.0 in d:\\productivity\\projects\\unityprojects\\image_recognition\\imagerecognition\\lib\\site-packages (from tensorflow) (3.3.0)\n",
      "Requirement already satisfied: termcolor~=1.1.0 in d:\\productivity\\projects\\unityprojects\\image_recognition\\imagerecognition\\lib\\site-packages (from tensorflow) (1.1.0)\n",
      "Requirement already satisfied: tensorboard-plugin-wit>=1.6.0 in d:\\productivity\\projects\\unityprojects\\image_recognition\\imagerecognition\\lib\\site-packages (from tensorboard~=2.5->tensorflow) (1.8.0)\n",
      "Requirement already satisfied: google-auth<2,>=1.6.3 in d:\\productivity\\projects\\unityprojects\\image_recognition\\imagerecognition\\lib\\site-packages (from tensorboard~=2.5->tensorflow) (1.32.0)\n",
      "Requirement already satisfied: markdown>=2.6.8 in d:\\productivity\\projects\\unityprojects\\image_recognition\\imagerecognition\\lib\\site-packages (from tensorboard~=2.5->tensorflow) (3.3.4)\n",
      "Requirement already satisfied: werkzeug>=0.11.15 in d:\\productivity\\projects\\unityprojects\\image_recognition\\imagerecognition\\lib\\site-packages (from tensorboard~=2.5->tensorflow) (2.0.1)\n",
      "Requirement already satisfied: tensorboard-data-server<0.7.0,>=0.6.0 in d:\\productivity\\projects\\unityprojects\\image_recognition\\imagerecognition\\lib\\site-packages (from tensorboard~=2.5->tensorflow) (0.6.1)\n",
      "Requirement already satisfied: google-auth-oauthlib<0.5,>=0.4.1 in d:\\productivity\\projects\\unityprojects\\image_recognition\\imagerecognition\\lib\\site-packages (from tensorboard~=2.5->tensorflow) (0.4.4)\n",
      "Requirement already satisfied: requests<3,>=2.21.0 in d:\\productivity\\projects\\unityprojects\\image_recognition\\imagerecognition\\lib\\site-packages (from tensorboard~=2.5->tensorflow) (2.25.1)\n",
      "Requirement already satisfied: setuptools>=41.0.0 in d:\\productivity\\projects\\unityprojects\\image_recognition\\imagerecognition\\lib\\site-packages (from tensorboard~=2.5->tensorflow) (56.0.0)\n",
      "Requirement already satisfied: rsa<5,>=3.1.4 in d:\\productivity\\projects\\unityprojects\\image_recognition\\imagerecognition\\lib\\site-packages (from google-auth<2,>=1.6.3->tensorboard~=2.5->tensorflow) (4.7.2)\n",
      "Requirement already satisfied: pyasn1-modules>=0.2.1 in d:\\productivity\\projects\\unityprojects\\image_recognition\\imagerecognition\\lib\\site-packages (from google-auth<2,>=1.6.3->tensorboard~=2.5->tensorflow) (0.2.8)\n",
      "Requirement already satisfied: cachetools<5.0,>=2.0.0 in d:\\productivity\\projects\\unityprojects\\image_recognition\\imagerecognition\\lib\\site-packages (from google-auth<2,>=1.6.3->tensorboard~=2.5->tensorflow) (4.2.2)\n",
      "Requirement already satisfied: requests-oauthlib>=0.7.0 in d:\\productivity\\projects\\unityprojects\\image_recognition\\imagerecognition\\lib\\site-packages (from google-auth-oauthlib<0.5,>=0.4.1->tensorboard~=2.5->tensorflow) (1.3.0)\n",
      "Requirement already satisfied: pyasn1<0.5.0,>=0.4.6 in d:\\productivity\\projects\\unityprojects\\image_recognition\\imagerecognition\\lib\\site-packages (from pyasn1-modules>=0.2.1->google-auth<2,>=1.6.3->tensorboard~=2.5->tensorflow) (0.4.8)\n",
      "Requirement already satisfied: chardet<5,>=3.0.2 in d:\\productivity\\projects\\unityprojects\\image_recognition\\imagerecognition\\lib\\site-packages (from requests<3,>=2.21.0->tensorboard~=2.5->tensorflow) (4.0.0)\n",
      "Requirement already satisfied: certifi>=2017.4.17 in d:\\productivity\\projects\\unityprojects\\image_recognition\\imagerecognition\\lib\\site-packages (from requests<3,>=2.21.0->tensorboard~=2.5->tensorflow) (2021.5.30)\n",
      "Requirement already satisfied: urllib3<1.27,>=1.21.1 in d:\\productivity\\projects\\unityprojects\\image_recognition\\imagerecognition\\lib\\site-packages (from requests<3,>=2.21.0->tensorboard~=2.5->tensorflow) (1.26.6)\n",
      "Requirement already satisfied: idna<3,>=2.5 in d:\\productivity\\projects\\unityprojects\\image_recognition\\imagerecognition\\lib\\site-packages (from requests<3,>=2.21.0->tensorboard~=2.5->tensorflow) (2.10)\n",
      "Requirement already satisfied: oauthlib>=3.0.0 in d:\\productivity\\projects\\unityprojects\\image_recognition\\imagerecognition\\lib\\site-packages (from requests-oauthlib>=0.7.0->google-auth-oauthlib<0.5,>=0.4.1->tensorboard~=2.5->tensorflow) (3.1.1)\n",
      "Note: you may need to restart the kernel to use updated packages.\n"
     ]
    }
   ],
   "source": [
    "pip install tensorflow --upgrade"
   ]
  },
  {
   "cell_type": "code",
   "execution_count": 5,
   "id": "d7302e14",
   "metadata": {},
   "outputs": [
    {
     "name": "stdout",
     "output_type": "stream",
     "text": [
      "Requirement already satisfied: matplotlib in d:\\productivity\\projects\\unityprojects\\image_recognition\\imagerecognition\\lib\\site-packages (3.4.2)\n",
      "Requirement already satisfied: cycler>=0.10 in d:\\productivity\\projects\\unityprojects\\image_recognition\\imagerecognition\\lib\\site-packages (from matplotlib) (0.10.0)\n",
      "Requirement already satisfied: kiwisolver>=1.0.1 in d:\\productivity\\projects\\unityprojects\\image_recognition\\imagerecognition\\lib\\site-packages (from matplotlib) (1.3.1)\n",
      "Requirement already satisfied: pyparsing>=2.2.1 in d:\\productivity\\projects\\unityprojects\\image_recognition\\imagerecognition\\lib\\site-packages (from matplotlib) (2.4.7)\n",
      "Requirement already satisfied: numpy>=1.16 in d:\\productivity\\projects\\unityprojects\\image_recognition\\imagerecognition\\lib\\site-packages (from matplotlib) (1.19.5)\n",
      "Requirement already satisfied: pillow>=6.2.0 in d:\\productivity\\projects\\unityprojects\\image_recognition\\imagerecognition\\lib\\site-packages (from matplotlib) (8.2.0)\n",
      "Requirement already satisfied: python-dateutil>=2.7 in d:\\productivity\\projects\\unityprojects\\image_recognition\\imagerecognition\\lib\\site-packages (from matplotlib) (2.8.1)\n",
      "Requirement already satisfied: six in d:\\productivity\\projects\\unityprojects\\image_recognition\\imagerecognition\\lib\\site-packages (from cycler>=0.10->matplotlib) (1.15.0)\n",
      "Note: you may need to restart the kernel to use updated packages.\n"
     ]
    }
   ],
   "source": [
    "pip install matplotlib"
   ]
  },
  {
   "cell_type": "code",
   "execution_count": 6,
   "id": "0d6ea29a",
   "metadata": {},
   "outputs": [
    {
     "name": "stdout",
     "output_type": "stream",
     "text": [
      "Requirement already satisfied: pillow in d:\\productivity\\projects\\unityprojects\\image_recognition\\imagerecognition\\lib\\site-packages (8.2.0)\n",
      "Note: you may need to restart the kernel to use updated packages.\n"
     ]
    }
   ],
   "source": [
    "pip install pillow"
   ]
  },
  {
   "cell_type": "code",
   "execution_count": 7,
   "id": "9efaa911",
   "metadata": {},
   "outputs": [
    {
     "name": "stdout",
     "output_type": "stream",
     "text": [
      "Requirement already satisfied: pyyaml in d:\\productivity\\projects\\unityprojects\\image_recognition\\imagerecognition\\lib\\site-packages (5.4.1)\n",
      "Note: you may need to restart the kernel to use updated packages.\n"
     ]
    }
   ],
   "source": [
    "pip install pyyaml"
   ]
  },
  {
   "cell_type": "code",
   "execution_count": 8,
   "id": "b1b51783",
   "metadata": {},
   "outputs": [
    {
     "name": "stdout",
     "output_type": "stream",
     "text": [
      "Requirement already satisfied: pytz in d:\\productivity\\projects\\unityprojects\\image_recognition\\imagerecognition\\lib\\site-packages (2021.1)\n",
      "Note: you may need to restart the kernel to use updated packages.\n"
     ]
    }
   ],
   "source": [
    "pip install pytz"
   ]
  },
  {
   "cell_type": "code",
   "execution_count": 9,
   "id": "c6be15cc",
   "metadata": {},
   "outputs": [
    {
     "name": "stdout",
     "output_type": "stream",
     "text": [
      "Requirement already satisfied: object_detection in d:\\productivity\\projects\\unityprojects\\image_recognition\\imagerecognition\\lib\\site-packages (0.0.3)\n",
      "Requirement already satisfied: matplotlib in d:\\productivity\\projects\\unityprojects\\image_recognition\\imagerecognition\\lib\\site-packages (from object_detection) (3.4.2)\n",
      "Requirement already satisfied: contextlib2 in d:\\productivity\\projects\\unityprojects\\image_recognition\\imagerecognition\\lib\\site-packages (from object_detection) (21.6.0)\n",
      "Requirement already satisfied: tensorflow in d:\\productivity\\projects\\unityprojects\\image_recognition\\imagerecognition\\lib\\site-packages (from object_detection) (2.5.0)\n",
      "Requirement already satisfied: lxml in d:\\productivity\\projects\\unityprojects\\image_recognition\\imagerecognition\\lib\\site-packages (from object_detection) (4.6.3)\n",
      "Requirement already satisfied: Cython in d:\\productivity\\projects\\unityprojects\\image_recognition\\imagerecognition\\lib\\site-packages (from object_detection) (0.29.23)\n",
      "Requirement already satisfied: jupyter in d:\\productivity\\projects\\unityprojects\\image_recognition\\imagerecognition\\lib\\site-packages (from object_detection) (1.0.0)\n",
      "Requirement already satisfied: pillow in d:\\productivity\\projects\\unityprojects\\image_recognition\\imagerecognition\\lib\\site-packages (from object_detection) (8.2.0)\n",
      "Requirement already satisfied: ipykernel in d:\\productivity\\projects\\unityprojects\\image_recognition\\imagerecognition\\lib\\site-packages (from jupyter->object_detection) (5.5.5)\n",
      "Requirement already satisfied: notebook in d:\\productivity\\projects\\unityprojects\\image_recognition\\imagerecognition\\lib\\site-packages (from jupyter->object_detection) (6.4.0)\n",
      "Requirement already satisfied: jupyter-console in d:\\productivity\\projects\\unityprojects\\image_recognition\\imagerecognition\\lib\\site-packages (from jupyter->object_detection) (6.4.0)\n",
      "Requirement already satisfied: qtconsole in d:\\productivity\\projects\\unityprojects\\image_recognition\\imagerecognition\\lib\\site-packages (from jupyter->object_detection) (5.1.0)\n",
      "Requirement already satisfied: nbconvert in d:\\productivity\\projects\\unityprojects\\image_recognition\\imagerecognition\\lib\\site-packages (from jupyter->object_detection) (6.1.0)\n",
      "Requirement already satisfied: ipywidgets in d:\\productivity\\projects\\unityprojects\\image_recognition\\imagerecognition\\lib\\site-packages (from jupyter->object_detection) (7.6.3)\n",
      "Requirement already satisfied: tornado>=4.2 in d:\\productivity\\projects\\unityprojects\\image_recognition\\imagerecognition\\lib\\site-packages (from ipykernel->jupyter->object_detection) (6.1)\n",
      "Requirement already satisfied: traitlets>=4.1.0 in d:\\productivity\\projects\\unityprojects\\image_recognition\\imagerecognition\\lib\\site-packages (from ipykernel->jupyter->object_detection) (5.0.5)\n",
      "Requirement already satisfied: jupyter-client in d:\\productivity\\projects\\unityprojects\\image_recognition\\imagerecognition\\lib\\site-packages (from ipykernel->jupyter->object_detection) (6.1.12)\n",
      "Requirement already satisfied: ipython>=5.0.0 in d:\\productivity\\projects\\unityprojects\\image_recognition\\imagerecognition\\lib\\site-packages (from ipykernel->jupyter->object_detection) (7.25.0)\n",
      "Requirement already satisfied: prompt-toolkit!=3.0.0,!=3.0.1,<3.1.0,>=2.0.0 in d:\\productivity\\projects\\unityprojects\\image_recognition\\imagerecognition\\lib\\site-packages (from ipython>=5.0.0->ipykernel->jupyter->object_detection) (3.0.19)\n",
      "Requirement already satisfied: matplotlib-inline in d:\\productivity\\projects\\unityprojects\\image_recognition\\imagerecognition\\lib\\site-packages (from ipython>=5.0.0->ipykernel->jupyter->object_detection) (0.1.2)\n",
      "Requirement already satisfied: pygments in d:\\productivity\\projects\\unityprojects\\image_recognition\\imagerecognition\\lib\\site-packages (from ipython>=5.0.0->ipykernel->jupyter->object_detection) (2.9.0)\n",
      "Requirement already satisfied: decorator in d:\\productivity\\projects\\unityprojects\\image_recognition\\imagerecognition\\lib\\site-packages (from ipython>=5.0.0->ipykernel->jupyter->object_detection) (5.0.9)\n",
      "Requirement already satisfied: setuptools>=18.5 in d:\\productivity\\projects\\unityprojects\\image_recognition\\imagerecognition\\lib\\site-packages (from ipython>=5.0.0->ipykernel->jupyter->object_detection) (56.0.0)\n",
      "Requirement already satisfied: colorama in d:\\productivity\\projects\\unityprojects\\image_recognition\\imagerecognition\\lib\\site-packages (from ipython>=5.0.0->ipykernel->jupyter->object_detection) (0.4.4)\n",
      "Requirement already satisfied: jedi>=0.16 in d:\\productivity\\projects\\unityprojects\\image_recognition\\imagerecognition\\lib\\site-packages (from ipython>=5.0.0->ipykernel->jupyter->object_detection) (0.18.0)\n",
      "Requirement already satisfied: backcall in d:\\productivity\\projects\\unityprojects\\image_recognition\\imagerecognition\\lib\\site-packages (from ipython>=5.0.0->ipykernel->jupyter->object_detection) (0.2.0)\n",
      "Requirement already satisfied: pickleshare in d:\\productivity\\projects\\unityprojects\\image_recognition\\imagerecognition\\lib\\site-packages (from ipython>=5.0.0->ipykernel->jupyter->object_detection) (0.7.5)\n",
      "Requirement already satisfied: parso<0.9.0,>=0.8.0 in d:\\productivity\\projects\\unityprojects\\image_recognition\\imagerecognition\\lib\\site-packages (from jedi>=0.16->ipython>=5.0.0->ipykernel->jupyter->object_detection) (0.8.2)\n",
      "Requirement already satisfied: wcwidth in d:\\productivity\\projects\\unityprojects\\image_recognition\\imagerecognition\\lib\\site-packages (from prompt-toolkit!=3.0.0,!=3.0.1,<3.1.0,>=2.0.0->ipython>=5.0.0->ipykernel->jupyter->object_detection) (0.2.5)\n",
      "Requirement already satisfied: ipython-genutils in d:\\productivity\\projects\\unityprojects\\image_recognition\\imagerecognition\\lib\\site-packages (from traitlets>=4.1.0->ipykernel->jupyter->object_detection) (0.2.0)\n",
      "Requirement already satisfied: jupyterlab-widgets>=1.0.0 in d:\\productivity\\projects\\unityprojects\\image_recognition\\imagerecognition\\lib\\site-packages (from ipywidgets->jupyter->object_detection) (1.0.0)\n",
      "Requirement already satisfied: nbformat>=4.2.0 in d:\\productivity\\projects\\unityprojects\\image_recognition\\imagerecognition\\lib\\site-packages (from ipywidgets->jupyter->object_detection) (5.1.3)\n",
      "Requirement already satisfied: widgetsnbextension~=3.5.0 in d:\\productivity\\projects\\unityprojects\\image_recognition\\imagerecognition\\lib\\site-packages (from ipywidgets->jupyter->object_detection) (3.5.1)\n",
      "Requirement already satisfied: jsonschema!=2.5.0,>=2.4 in d:\\productivity\\projects\\unityprojects\\image_recognition\\imagerecognition\\lib\\site-packages (from nbformat>=4.2.0->ipywidgets->jupyter->object_detection) (3.2.0)\n",
      "Requirement already satisfied: jupyter-core in d:\\productivity\\projects\\unityprojects\\image_recognition\\imagerecognition\\lib\\site-packages (from nbformat>=4.2.0->ipywidgets->jupyter->object_detection) (4.7.1)\n",
      "Requirement already satisfied: attrs>=17.4.0 in d:\\productivity\\projects\\unityprojects\\image_recognition\\imagerecognition\\lib\\site-packages (from jsonschema!=2.5.0,>=2.4->nbformat>=4.2.0->ipywidgets->jupyter->object_detection) (21.2.0)\n",
      "Requirement already satisfied: pyrsistent>=0.14.0 in d:\\productivity\\projects\\unityprojects\\image_recognition\\imagerecognition\\lib\\site-packages (from jsonschema!=2.5.0,>=2.4->nbformat>=4.2.0->ipywidgets->jupyter->object_detection) (0.17.3)\n",
      "Requirement already satisfied: six>=1.11.0 in d:\\productivity\\projects\\unityprojects\\image_recognition\\imagerecognition\\lib\\site-packages (from jsonschema!=2.5.0,>=2.4->nbformat>=4.2.0->ipywidgets->jupyter->object_detection) (1.15.0)\n",
      "Requirement already satisfied: prometheus-client in d:\\productivity\\projects\\unityprojects\\image_recognition\\imagerecognition\\lib\\site-packages (from notebook->jupyter->object_detection) (0.11.0)\n",
      "Requirement already satisfied: Send2Trash>=1.5.0 in d:\\productivity\\projects\\unityprojects\\image_recognition\\imagerecognition\\lib\\site-packages (from notebook->jupyter->object_detection) (1.7.1)\n",
      "Requirement already satisfied: jinja2 in d:\\productivity\\projects\\unityprojects\\image_recognition\\imagerecognition\\lib\\site-packages (from notebook->jupyter->object_detection) (3.0.1)\n",
      "Requirement already satisfied: pyzmq>=17 in d:\\productivity\\projects\\unityprojects\\image_recognition\\imagerecognition\\lib\\site-packages (from notebook->jupyter->object_detection) (22.1.0)\n",
      "Requirement already satisfied: terminado>=0.8.3 in d:\\productivity\\projects\\unityprojects\\image_recognition\\imagerecognition\\lib\\site-packages (from notebook->jupyter->object_detection) (0.10.1)\n",
      "Requirement already satisfied: argon2-cffi in d:\\productivity\\projects\\unityprojects\\image_recognition\\imagerecognition\\lib\\site-packages (from notebook->jupyter->object_detection) (20.1.0)\n",
      "Requirement already satisfied: python-dateutil>=2.1 in d:\\productivity\\projects\\unityprojects\\image_recognition\\imagerecognition\\lib\\site-packages (from jupyter-client->ipykernel->jupyter->object_detection) (2.8.1)\n",
      "Requirement already satisfied: pywin32>=1.0 in d:\\productivity\\projects\\unityprojects\\image_recognition\\imagerecognition\\lib\\site-packages (from jupyter-core->nbformat>=4.2.0->ipywidgets->jupyter->object_detection) (301)\n",
      "Requirement already satisfied: pywinpty>=1.1.0 in d:\\productivity\\projects\\unityprojects\\image_recognition\\imagerecognition\\lib\\site-packages (from terminado>=0.8.3->notebook->jupyter->object_detection) (1.1.3)\n",
      "Requirement already satisfied: cffi>=1.0.0 in d:\\productivity\\projects\\unityprojects\\image_recognition\\imagerecognition\\lib\\site-packages (from argon2-cffi->notebook->jupyter->object_detection) (1.14.5)\n",
      "Note: you may need to restart the kernel to use updated packages.Requirement already satisfied: pycparser in d:\\productivity\\projects\\unityprojects\\image_recognition\\imagerecognition\\lib\\site-packages (from cffi>=1.0.0->argon2-cffi->notebook->jupyter->object_detection) (2.20)\n"
     ]
    },
    {
     "name": "stdout",
     "output_type": "stream",
     "text": [
      "\n",
      "Requirement already satisfied: MarkupSafe>=2.0 in d:\\productivity\\projects\\unityprojects\\image_recognition\\imagerecognition\\lib\\site-packages (from jinja2->notebook->jupyter->object_detection) (2.0.1)\n",
      "Requirement already satisfied: pyparsing>=2.2.1 in d:\\productivity\\projects\\unityprojects\\image_recognition\\imagerecognition\\lib\\site-packages (from matplotlib->object_detection) (2.4.7)\n",
      "Requirement already satisfied: numpy>=1.16 in d:\\productivity\\projects\\unityprojects\\image_recognition\\imagerecognition\\lib\\site-packages (from matplotlib->object_detection) (1.19.5)\n",
      "Requirement already satisfied: kiwisolver>=1.0.1 in d:\\productivity\\projects\\unityprojects\\image_recognition\\imagerecognition\\lib\\site-packages (from matplotlib->object_detection) (1.3.1)\n",
      "Requirement already satisfied: cycler>=0.10 in d:\\productivity\\projects\\unityprojects\\image_recognition\\imagerecognition\\lib\\site-packages (from matplotlib->object_detection) (0.10.0)\n",
      "Requirement already satisfied: bleach in d:\\productivity\\projects\\unityprojects\\image_recognition\\imagerecognition\\lib\\site-packages (from nbconvert->jupyter->object_detection) (3.3.0)\n",
      "Requirement already satisfied: pandocfilters>=1.4.1 in d:\\productivity\\projects\\unityprojects\\image_recognition\\imagerecognition\\lib\\site-packages (from nbconvert->jupyter->object_detection) (1.4.3)\n",
      "Requirement already satisfied: nbclient<0.6.0,>=0.5.0 in d:\\productivity\\projects\\unityprojects\\image_recognition\\imagerecognition\\lib\\site-packages (from nbconvert->jupyter->object_detection) (0.5.3)\n",
      "Requirement already satisfied: jupyterlab-pygments in d:\\productivity\\projects\\unityprojects\\image_recognition\\imagerecognition\\lib\\site-packages (from nbconvert->jupyter->object_detection) (0.1.2)\n",
      "Requirement already satisfied: testpath in d:\\productivity\\projects\\unityprojects\\image_recognition\\imagerecognition\\lib\\site-packages (from nbconvert->jupyter->object_detection) (0.5.0)\n",
      "Requirement already satisfied: defusedxml in d:\\productivity\\projects\\unityprojects\\image_recognition\\imagerecognition\\lib\\site-packages (from nbconvert->jupyter->object_detection) (0.7.1)\n",
      "Requirement already satisfied: entrypoints>=0.2.2 in d:\\productivity\\projects\\unityprojects\\image_recognition\\imagerecognition\\lib\\site-packages (from nbconvert->jupyter->object_detection) (0.3)\n",
      "Requirement already satisfied: mistune<2,>=0.8.1 in d:\\productivity\\projects\\unityprojects\\image_recognition\\imagerecognition\\lib\\site-packages (from nbconvert->jupyter->object_detection) (0.8.4)\n",
      "Requirement already satisfied: async-generator in d:\\productivity\\projects\\unityprojects\\image_recognition\\imagerecognition\\lib\\site-packages (from nbclient<0.6.0,>=0.5.0->nbconvert->jupyter->object_detection) (1.10)\n",
      "Requirement already satisfied: nest-asyncio in d:\\productivity\\projects\\unityprojects\\image_recognition\\imagerecognition\\lib\\site-packages (from nbclient<0.6.0,>=0.5.0->nbconvert->jupyter->object_detection) (1.5.1)\n",
      "Requirement already satisfied: webencodings in d:\\productivity\\projects\\unityprojects\\image_recognition\\imagerecognition\\lib\\site-packages (from bleach->nbconvert->jupyter->object_detection) (0.5.1)\n",
      "Requirement already satisfied: packaging in d:\\productivity\\projects\\unityprojects\\image_recognition\\imagerecognition\\lib\\site-packages (from bleach->nbconvert->jupyter->object_detection) (20.9)\n",
      "Requirement already satisfied: qtpy in d:\\productivity\\projects\\unityprojects\\image_recognition\\imagerecognition\\lib\\site-packages (from qtconsole->jupyter->object_detection) (1.9.0)\n",
      "Requirement already satisfied: typing-extensions~=3.7.4 in d:\\productivity\\projects\\unityprojects\\image_recognition\\imagerecognition\\lib\\site-packages (from tensorflow->object_detection) (3.7.4.3)\n",
      "Requirement already satisfied: flatbuffers~=1.12.0 in d:\\productivity\\projects\\unityprojects\\image_recognition\\imagerecognition\\lib\\site-packages (from tensorflow->object_detection) (1.12)\n",
      "Requirement already satisfied: absl-py~=0.10 in d:\\productivity\\projects\\unityprojects\\image_recognition\\imagerecognition\\lib\\site-packages (from tensorflow->object_detection) (0.13.0)\n",
      "Requirement already satisfied: h5py~=3.1.0 in d:\\productivity\\projects\\unityprojects\\image_recognition\\imagerecognition\\lib\\site-packages (from tensorflow->object_detection) (3.1.0)\n",
      "Requirement already satisfied: tensorflow-estimator<2.6.0,>=2.5.0rc0 in d:\\productivity\\projects\\unityprojects\\image_recognition\\imagerecognition\\lib\\site-packages (from tensorflow->object_detection) (2.5.0)\n",
      "Requirement already satisfied: gast==0.4.0 in d:\\productivity\\projects\\unityprojects\\image_recognition\\imagerecognition\\lib\\site-packages (from tensorflow->object_detection) (0.4.0)\n",
      "Requirement already satisfied: wheel~=0.35 in d:\\productivity\\projects\\unityprojects\\image_recognition\\imagerecognition\\lib\\site-packages (from tensorflow->object_detection) (0.36.2)\n",
      "Requirement already satisfied: google-pasta~=0.2 in d:\\productivity\\projects\\unityprojects\\image_recognition\\imagerecognition\\lib\\site-packages (from tensorflow->object_detection) (0.2.0)\n",
      "Requirement already satisfied: wrapt~=1.12.1 in d:\\productivity\\projects\\unityprojects\\image_recognition\\imagerecognition\\lib\\site-packages (from tensorflow->object_detection) (1.12.1)\n",
      "Requirement already satisfied: keras-nightly~=2.5.0.dev in d:\\productivity\\projects\\unityprojects\\image_recognition\\imagerecognition\\lib\\site-packages (from tensorflow->object_detection) (2.5.0.dev2021032900)\n",
      "Requirement already satisfied: protobuf>=3.9.2 in d:\\productivity\\projects\\unityprojects\\image_recognition\\imagerecognition\\lib\\site-packages (from tensorflow->object_detection) (3.17.3)\n",
      "Requirement already satisfied: opt-einsum~=3.3.0 in d:\\productivity\\projects\\unityprojects\\image_recognition\\imagerecognition\\lib\\site-packages (from tensorflow->object_detection) (3.3.0)\n",
      "Requirement already satisfied: keras-preprocessing~=1.1.2 in d:\\productivity\\projects\\unityprojects\\image_recognition\\imagerecognition\\lib\\site-packages (from tensorflow->object_detection) (1.1.2)\n",
      "Requirement already satisfied: astunparse~=1.6.3 in d:\\productivity\\projects\\unityprojects\\image_recognition\\imagerecognition\\lib\\site-packages (from tensorflow->object_detection) (1.6.3)\n",
      "Requirement already satisfied: tensorboard~=2.5 in d:\\productivity\\projects\\unityprojects\\image_recognition\\imagerecognition\\lib\\site-packages (from tensorflow->object_detection) (2.5.0)\n",
      "Requirement already satisfied: termcolor~=1.1.0 in d:\\productivity\\projects\\unityprojects\\image_recognition\\imagerecognition\\lib\\site-packages (from tensorflow->object_detection) (1.1.0)\n",
      "Requirement already satisfied: grpcio~=1.34.0 in d:\\productivity\\projects\\unityprojects\\image_recognition\\imagerecognition\\lib\\site-packages (from tensorflow->object_detection) (1.34.1)\n",
      "Requirement already satisfied: google-auth<2,>=1.6.3 in d:\\productivity\\projects\\unityprojects\\image_recognition\\imagerecognition\\lib\\site-packages (from tensorboard~=2.5->tensorflow->object_detection) (1.32.0)\n",
      "Requirement already satisfied: markdown>=2.6.8 in d:\\productivity\\projects\\unityprojects\\image_recognition\\imagerecognition\\lib\\site-packages (from tensorboard~=2.5->tensorflow->object_detection) (3.3.4)\n",
      "Requirement already satisfied: requests<3,>=2.21.0 in d:\\productivity\\projects\\unityprojects\\image_recognition\\imagerecognition\\lib\\site-packages (from tensorboard~=2.5->tensorflow->object_detection) (2.25.1)\n",
      "Requirement already satisfied: google-auth-oauthlib<0.5,>=0.4.1 in d:\\productivity\\projects\\unityprojects\\image_recognition\\imagerecognition\\lib\\site-packages (from tensorboard~=2.5->tensorflow->object_detection) (0.4.4)\n",
      "Requirement already satisfied: tensorboard-data-server<0.7.0,>=0.6.0 in d:\\productivity\\projects\\unityprojects\\image_recognition\\imagerecognition\\lib\\site-packages (from tensorboard~=2.5->tensorflow->object_detection) (0.6.1)\n",
      "Requirement already satisfied: tensorboard-plugin-wit>=1.6.0 in d:\\productivity\\projects\\unityprojects\\image_recognition\\imagerecognition\\lib\\site-packages (from tensorboard~=2.5->tensorflow->object_detection) (1.8.0)\n",
      "Requirement already satisfied: werkzeug>=0.11.15 in d:\\productivity\\projects\\unityprojects\\image_recognition\\imagerecognition\\lib\\site-packages (from tensorboard~=2.5->tensorflow->object_detection) (2.0.1)\n",
      "Requirement already satisfied: cachetools<5.0,>=2.0.0 in d:\\productivity\\projects\\unityprojects\\image_recognition\\imagerecognition\\lib\\site-packages (from google-auth<2,>=1.6.3->tensorboard~=2.5->tensorflow->object_detection) (4.2.2)\n",
      "Requirement already satisfied: pyasn1-modules>=0.2.1 in d:\\productivity\\projects\\unityprojects\\image_recognition\\imagerecognition\\lib\\site-packages (from google-auth<2,>=1.6.3->tensorboard~=2.5->tensorflow->object_detection) (0.2.8)\n",
      "Requirement already satisfied: rsa<5,>=3.1.4 in d:\\productivity\\projects\\unityprojects\\image_recognition\\imagerecognition\\lib\\site-packages (from google-auth<2,>=1.6.3->tensorboard~=2.5->tensorflow->object_detection) (4.7.2)\n",
      "Requirement already satisfied: requests-oauthlib>=0.7.0 in d:\\productivity\\projects\\unityprojects\\image_recognition\\imagerecognition\\lib\\site-packages (from google-auth-oauthlib<0.5,>=0.4.1->tensorboard~=2.5->tensorflow->object_detection) (1.3.0)\n",
      "Requirement already satisfied: pyasn1<0.5.0,>=0.4.6 in d:\\productivity\\projects\\unityprojects\\image_recognition\\imagerecognition\\lib\\site-packages (from pyasn1-modules>=0.2.1->google-auth<2,>=1.6.3->tensorboard~=2.5->tensorflow->object_detection) (0.4.8)\n",
      "Requirement already satisfied: certifi>=2017.4.17 in d:\\productivity\\projects\\unityprojects\\image_recognition\\imagerecognition\\lib\\site-packages (from requests<3,>=2.21.0->tensorboard~=2.5->tensorflow->object_detection) (2021.5.30)\n",
      "Requirement already satisfied: urllib3<1.27,>=1.21.1 in d:\\productivity\\projects\\unityprojects\\image_recognition\\imagerecognition\\lib\\site-packages (from requests<3,>=2.21.0->tensorboard~=2.5->tensorflow->object_detection) (1.26.6)\n",
      "Requirement already satisfied: idna<3,>=2.5 in d:\\productivity\\projects\\unityprojects\\image_recognition\\imagerecognition\\lib\\site-packages (from requests<3,>=2.21.0->tensorboard~=2.5->tensorflow->object_detection) (2.10)\n",
      "Requirement already satisfied: chardet<5,>=3.0.2 in d:\\productivity\\projects\\unityprojects\\image_recognition\\imagerecognition\\lib\\site-packages (from requests<3,>=2.21.0->tensorboard~=2.5->tensorflow->object_detection) (4.0.0)\n",
      "Requirement already satisfied: oauthlib>=3.0.0 in d:\\productivity\\projects\\unityprojects\\image_recognition\\imagerecognition\\lib\\site-packages (from requests-oauthlib>=0.7.0->google-auth-oauthlib<0.5,>=0.4.1->tensorboard~=2.5->tensorflow->object_detection) (3.1.1)\n"
     ]
    }
   ],
   "source": [
    "pip install object_detection"
   ]
  },
  {
   "cell_type": "code",
   "execution_count": 10,
   "id": "57872584",
   "metadata": {},
   "outputs": [
    {
     "name": "stdout",
     "output_type": "stream",
     "text": [
      "Collecting pycocotools\n",
      "  Using cached pycocotools-2.0.2.tar.gz (23 kB)\n",
      "Requirement already satisfied: setuptools>=18.0 in d:\\productivity\\projects\\unityprojects\\image_recognition\\imagerecognition\\lib\\site-packages (from pycocotools) (56.0.0)\n",
      "Requirement already satisfied: cython>=0.27.3 in d:\\productivity\\projects\\unityprojects\\image_recognition\\imagerecognition\\lib\\site-packages (from pycocotools) (0.29.23)\n",
      "Requirement already satisfied: matplotlib>=2.1.0 in d:\\productivity\\projects\\unityprojects\\image_recognition\\imagerecognition\\lib\\site-packages (from pycocotools) (3.4.2)\n",
      "Requirement already satisfied: pyparsing>=2.2.1 in d:\\productivity\\projects\\unityprojects\\image_recognition\\imagerecognition\\lib\\site-packages (from matplotlib>=2.1.0->pycocotools) (2.4.7)\n",
      "Requirement already satisfied: kiwisolver>=1.0.1 in d:\\productivity\\projects\\unityprojects\\image_recognition\\imagerecognition\\lib\\site-packages (from matplotlib>=2.1.0->pycocotools) (1.3.1)\n",
      "Requirement already satisfied: pillow>=6.2.0 in d:\\productivity\\projects\\unityprojects\\image_recognition\\imagerecognition\\lib\\site-packages (from matplotlib>=2.1.0->pycocotools) (8.2.0)\n",
      "Requirement already satisfied: numpy>=1.16 in d:\\productivity\\projects\\unityprojects\\image_recognition\\imagerecognition\\lib\\site-packages (from matplotlib>=2.1.0->pycocotools) (1.19.5)\n",
      "Requirement already satisfied: cycler>=0.10 in d:\\productivity\\projects\\unityprojects\\image_recognition\\imagerecognition\\lib\\site-packages (from matplotlib>=2.1.0->pycocotools) (0.10.0)\n",
      "Requirement already satisfied: python-dateutil>=2.7 in d:\\productivity\\projects\\unityprojects\\image_recognition\\imagerecognition\\lib\\site-packages (from matplotlib>=2.1.0->pycocotools) (2.8.1)\n",
      "Requirement already satisfied: six in d:\\productivity\\projects\\unityprojects\\image_recognition\\imagerecognition\\lib\\site-packages (from cycler>=0.10->matplotlib>=2.1.0->pycocotools) (1.15.0)\n",
      "Building wheels for collected packages: pycocotools\n",
      "  Building wheel for pycocotools (setup.py): started\n",
      "  Building wheel for pycocotools (setup.py): finished with status 'error'\n",
      "  Running setup.py clean for pycocotools\n",
      "Failed to build pycocotools\n",
      "Installing collected packages: pycocotools\n",
      "    Running setup.py install for pycocotools: started\n",
      "    Running setup.py install for pycocotools: finished with status 'error'\n",
      "Note: you may need to restart the kernel to use updated packages.\n"
     ]
    },
    {
     "name": "stderr",
     "output_type": "stream",
     "text": [
      "  ERROR: Command errored out with exit status 1:\n",
      "   command: 'D:\\Productivity\\Projects\\unityProjects\\image_recognition\\imagerecognition\\Scripts\\python.exe' -u -c 'import io, os, sys, setuptools, tokenize; sys.argv[0] = '\"'\"'C:\\\\Users\\\\ferry\\\\AppData\\\\Local\\\\Temp\\\\pip-install-fkhv62pa\\\\pycocotools_f7bf41c6f34a434fb68c20c55fccd513\\\\setup.py'\"'\"'; __file__='\"'\"'C:\\\\Users\\\\ferry\\\\AppData\\\\Local\\\\Temp\\\\pip-install-fkhv62pa\\\\pycocotools_f7bf41c6f34a434fb68c20c55fccd513\\\\setup.py'\"'\"';f = getattr(tokenize, '\"'\"'open'\"'\"', open)(__file__) if os.path.exists(__file__) else io.StringIO('\"'\"'from setuptools import setup; setup()'\"'\"');code = f.read().replace('\"'\"'\\r\\n'\"'\"', '\"'\"'\\n'\"'\"');f.close();exec(compile(code, __file__, '\"'\"'exec'\"'\"'))' bdist_wheel -d 'C:\\Users\\ferry\\AppData\\Local\\Temp\\pip-wheel-qdm5kzsa'\n",
      "       cwd: C:\\Users\\ferry\\AppData\\Local\\Temp\\pip-install-fkhv62pa\\pycocotools_f7bf41c6f34a434fb68c20c55fccd513\\\n",
      "  Complete output (23 lines):\n",
      "  running bdist_wheel\n",
      "  running build\n",
      "  running build_py\n",
      "  creating build\n",
      "  creating build\\lib.win-amd64-3.8\n",
      "  creating build\\lib.win-amd64-3.8\\pycocotools\n",
      "  copying pycocotools\\coco.py -> build\\lib.win-amd64-3.8\\pycocotools\n",
      "  copying pycocotools\\cocoeval.py -> build\\lib.win-amd64-3.8\\pycocotools\n",
      "  copying pycocotools\\mask.py -> build\\lib.win-amd64-3.8\\pycocotools\n",
      "  copying pycocotools\\__init__.py -> build\\lib.win-amd64-3.8\\pycocotools\n",
      "  running build_ext\n",
      "  cythoning pycocotools/_mask.pyx to pycocotools\\_mask.c\n",
      "  D:\\Productivity\\Projects\\unityProjects\\image_recognition\\imagerecognition\\lib\\site-packages\\Cython\\Compiler\\Main.py:369: FutureWarning: Cython directive 'language_level' not set, using 2 for now (Py2). This will change in a later release! File: C:\\Users\\ferry\\AppData\\Local\\Temp\\pip-install-fkhv62pa\\pycocotools_f7bf41c6f34a434fb68c20c55fccd513\\pycocotools\\_mask.pyx\n",
      "    tree = Parsing.p_module(s, pxd, full_module_name)\n",
      "  building 'pycocotools._mask' extension\n",
      "  creating build\\temp.win-amd64-3.8\n",
      "  creating build\\temp.win-amd64-3.8\\Release\n",
      "  creating build\\temp.win-amd64-3.8\\Release\\common\n",
      "  creating build\\temp.win-amd64-3.8\\Release\\pycocotools\n",
      "  C:\\Program Files (x86)\\Microsoft Visual Studio\\2019\\Community\\VC\\Tools\\MSVC\\14.28.29333\\bin\\HostX86\\x64\\cl.exe /c /nologo /Ox /W3 /GL /DNDEBUG /MD -ID:\\Productivity\\Projects\\unityProjects\\image_recognition\\imagerecognition\\lib\\site-packages\\numpy\\core\\include -I./common -ID:\\Productivity\\Projects\\unityProjects\\image_recognition\\imagerecognition\\include -IC:\\Users\\ferry\\AppData\\Local\\Programs\\Python\\Python38\\include -IC:\\Users\\ferry\\AppData\\Local\\Programs\\Python\\Python38\\include \"-IC:\\Program Files (x86)\\Microsoft Visual Studio\\2019\\Community\\VC\\Tools\\MSVC\\14.28.29333\\include\" \"-IC:\\Program Files (x86)\\Windows Kits\\NETFXSDK\\4.8\\include\\um\" /Tc./common/maskApi.c /Fobuild\\temp.win-amd64-3.8\\Release\\./common/maskApi.obj\n",
      "  maskApi.c\n",
      "  ./common/maskApi.c(8): fatal error C1083: Cannot open include file: 'math.h': No such file or directory\n",
      "  error: command 'C:\\\\Program Files (x86)\\\\Microsoft Visual Studio\\\\2019\\\\Community\\\\VC\\\\Tools\\\\MSVC\\\\14.28.29333\\\\bin\\\\HostX86\\\\x64\\\\cl.exe' failed with exit status 2\n",
      "  ----------------------------------------\n",
      "  ERROR: Failed building wheel for pycocotools\n",
      "    ERROR: Command errored out with exit status 1:\n",
      "     command: 'D:\\Productivity\\Projects\\unityProjects\\image_recognition\\imagerecognition\\Scripts\\python.exe' -u -c 'import io, os, sys, setuptools, tokenize; sys.argv[0] = '\"'\"'C:\\\\Users\\\\ferry\\\\AppData\\\\Local\\\\Temp\\\\pip-install-fkhv62pa\\\\pycocotools_f7bf41c6f34a434fb68c20c55fccd513\\\\setup.py'\"'\"'; __file__='\"'\"'C:\\\\Users\\\\ferry\\\\AppData\\\\Local\\\\Temp\\\\pip-install-fkhv62pa\\\\pycocotools_f7bf41c6f34a434fb68c20c55fccd513\\\\setup.py'\"'\"';f = getattr(tokenize, '\"'\"'open'\"'\"', open)(__file__) if os.path.exists(__file__) else io.StringIO('\"'\"'from setuptools import setup; setup()'\"'\"');code = f.read().replace('\"'\"'\\r\\n'\"'\"', '\"'\"'\\n'\"'\"');f.close();exec(compile(code, __file__, '\"'\"'exec'\"'\"'))' install --record 'C:\\Users\\ferry\\AppData\\Local\\Temp\\pip-record-7bo_ms4t\\install-record.txt' --single-version-externally-managed --compile --install-headers 'D:\\Productivity\\Projects\\unityProjects\\image_recognition\\imagerecognition\\include\\site\\python3.8\\pycocotools'\n",
      "         cwd: C:\\Users\\ferry\\AppData\\Local\\Temp\\pip-install-fkhv62pa\\pycocotools_f7bf41c6f34a434fb68c20c55fccd513\\\n",
      "    Complete output (21 lines):\n",
      "    running install\n",
      "    running build\n",
      "    running build_py\n",
      "    creating build\n",
      "    creating build\\lib.win-amd64-3.8\n",
      "    creating build\\lib.win-amd64-3.8\\pycocotools\n",
      "    copying pycocotools\\coco.py -> build\\lib.win-amd64-3.8\\pycocotools\n",
      "    copying pycocotools\\cocoeval.py -> build\\lib.win-amd64-3.8\\pycocotools\n",
      "    copying pycocotools\\mask.py -> build\\lib.win-amd64-3.8\\pycocotools\n",
      "    copying pycocotools\\__init__.py -> build\\lib.win-amd64-3.8\\pycocotools\n",
      "    running build_ext\n",
      "    skipping 'pycocotools\\_mask.c' Cython extension (up-to-date)\n",
      "    building 'pycocotools._mask' extension\n",
      "    creating build\\temp.win-amd64-3.8\n",
      "    creating build\\temp.win-amd64-3.8\\Release\n",
      "    creating build\\temp.win-amd64-3.8\\Release\\common\n",
      "    creating build\\temp.win-amd64-3.8\\Release\\pycocotools\n",
      "    C:\\Program Files (x86)\\Microsoft Visual Studio\\2019\\Community\\VC\\Tools\\MSVC\\14.28.29333\\bin\\HostX86\\x64\\cl.exe /c /nologo /Ox /W3 /GL /DNDEBUG /MD -ID:\\Productivity\\Projects\\unityProjects\\image_recognition\\imagerecognition\\lib\\site-packages\\numpy\\core\\include -I./common -ID:\\Productivity\\Projects\\unityProjects\\image_recognition\\imagerecognition\\include -IC:\\Users\\ferry\\AppData\\Local\\Programs\\Python\\Python38\\include -IC:\\Users\\ferry\\AppData\\Local\\Programs\\Python\\Python38\\include \"-IC:\\Program Files (x86)\\Microsoft Visual Studio\\2019\\Community\\VC\\Tools\\MSVC\\14.28.29333\\include\" \"-IC:\\Program Files (x86)\\Windows Kits\\NETFXSDK\\4.8\\include\\um\" /Tc./common/maskApi.c /Fobuild\\temp.win-amd64-3.8\\Release\\./common/maskApi.obj\n",
      "    maskApi.c\n",
      "    ./common/maskApi.c(8): fatal error C1083: Cannot open include file: 'math.h': No such file or directory\n",
      "    error: command 'C:\\\\Program Files (x86)\\\\Microsoft Visual Studio\\\\2019\\\\Community\\\\VC\\\\Tools\\\\MSVC\\\\14.28.29333\\\\bin\\\\HostX86\\\\x64\\\\cl.exe' failed with exit status 2\n",
      "    ----------------------------------------\n",
      "ERROR: Command errored out with exit status 1: 'D:\\Productivity\\Projects\\unityProjects\\image_recognition\\imagerecognition\\Scripts\\python.exe' -u -c 'import io, os, sys, setuptools, tokenize; sys.argv[0] = '\"'\"'C:\\\\Users\\\\ferry\\\\AppData\\\\Local\\\\Temp\\\\pip-install-fkhv62pa\\\\pycocotools_f7bf41c6f34a434fb68c20c55fccd513\\\\setup.py'\"'\"'; __file__='\"'\"'C:\\\\Users\\\\ferry\\\\AppData\\\\Local\\\\Temp\\\\pip-install-fkhv62pa\\\\pycocotools_f7bf41c6f34a434fb68c20c55fccd513\\\\setup.py'\"'\"';f = getattr(tokenize, '\"'\"'open'\"'\"', open)(__file__) if os.path.exists(__file__) else io.StringIO('\"'\"'from setuptools import setup; setup()'\"'\"');code = f.read().replace('\"'\"'\\r\\n'\"'\"', '\"'\"'\\n'\"'\"');f.close();exec(compile(code, __file__, '\"'\"'exec'\"'\"'))' install --record 'C:\\Users\\ferry\\AppData\\Local\\Temp\\pip-record-7bo_ms4t\\install-record.txt' --single-version-externally-managed --compile --install-headers 'D:\\Productivity\\Projects\\unityProjects\\image_recognition\\imagerecognition\\include\\site\\python3.8\\pycocotools' Check the logs for full command output.\n"
     ]
    }
   ],
   "source": [
    "pip install pycocotools"
   ]
  }
 ],
 "metadata": {
  "kernelspec": {
   "display_name": "imagerecognition",
   "language": "python",
   "name": "imagerecognition"
  },
  "language_info": {
   "codemirror_mode": {
    "name": "ipython",
    "version": 3
   },
   "file_extension": ".py",
   "mimetype": "text/x-python",
   "name": "python",
   "nbconvert_exporter": "python",
   "pygments_lexer": "ipython3",
   "version": "3.8.10"
  }
 },
 "nbformat": 4,
 "nbformat_minor": 5
}
