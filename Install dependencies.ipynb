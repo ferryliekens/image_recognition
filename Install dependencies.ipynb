{
 "cells": [
  {
   "cell_type": "markdown",
   "id": "ae9d8f21",
   "metadata": {},
   "source": [
    "# Install all dependencies nessesary for running the project"
   ]
  },
  {
   "cell_type": "code",
   "execution_count": null,
   "id": "9dcec5e4",
   "metadata": {},
   "outputs": [],
   "source": [
    "pip install opencv-python"
   ]
  },
  {
   "cell_type": "code",
   "execution_count": null,
   "id": "8b8bec89",
   "metadata": {},
   "outputs": [],
   "source": [
    "pip install lxml"
   ]
  },
  {
   "cell_type": "code",
   "execution_count": null,
   "id": "ada559d0",
   "metadata": {},
   "outputs": [],
   "source": [
    "pip install wget"
   ]
  },
  {
   "cell_type": "code",
   "execution_count": null,
   "id": "0fee5c8c",
   "metadata": {},
   "outputs": [],
   "source": [
    "pip install tensorflow"
   ]
  },
  {
   "cell_type": "code",
   "execution_count": null,
   "id": "d7302e14",
   "metadata": {},
   "outputs": [],
   "source": [
    "pip install matplotlib"
   ]
  },
  {
   "cell_type": "code",
   "execution_count": null,
   "id": "0d6ea29a",
   "metadata": {},
   "outputs": [],
   "source": [
    "pip install pillow"
   ]
  },
  {
   "cell_type": "code",
   "execution_count": null,
   "id": "9efaa911",
   "metadata": {},
   "outputs": [],
   "source": [
    "pip install pyyaml"
   ]
  },
  {
   "cell_type": "code",
   "execution_count": null,
   "id": "b1b51783",
   "metadata": {},
   "outputs": [],
   "source": [
    "pip install pytz"
   ]
  },
  {
   "cell_type": "code",
   "execution_count": null,
   "id": "c6be15cc",
   "metadata": {},
   "outputs": [],
   "source": [
    "pip install object_detection"
   ]
  },
  {
   "cell_type": "code",
   "execution_count": null,
   "id": "57872584",
   "metadata": {},
   "outputs": [],
   "source": [
    "pip install pycocotools"
   ]
  }
 ],
 "metadata": {
  "kernelspec": {
   "display_name": "imagerecognition",
   "language": "python",
   "name": "imagerecognition"
  },
  "language_info": {
   "codemirror_mode": {
    "name": "ipython",
    "version": 3
   },
   "file_extension": ".py",
   "mimetype": "text/x-python",
   "name": "python",
   "nbconvert_exporter": "python",
   "pygments_lexer": "ipython3",
   "version": "3.8.10"
  }
 },
 "nbformat": 4,
 "nbformat_minor": 5
}
