{
 "cells": [
  {
   "cell_type": "markdown",
   "id": "e861c092",
   "metadata": {},
   "source": [
    "# Images gathering and labeling script\n",
    "\n",
    "This is a script for capturing and labeling for testing and training a image recognition model"
   ]
  },
  {
   "cell_type": "code",
   "execution_count": null,
   "id": "6e72dbc8",
   "metadata": {},
   "outputs": [],
   "source": [
    "# install opencv for captuiring the images\n",
    "!pip install opencv-python"
   ]
  },
  {
   "cell_type": "code",
   "execution_count": null,
   "id": "d71743d5",
   "metadata": {},
   "outputs": [],
   "source": [
    "# import libraries\n",
    "import cv2 \n",
    "import uuid\n",
    "import os\n",
    "import time"
   ]
  },
  {
   "cell_type": "code",
   "execution_count": null,
   "id": "5b0e794f",
   "metadata": {},
   "outputs": [],
   "source": [
    "# define labels and determine number of images to be taken\n",
    "labels = ['ball', 'block', 'cozmo']\n",
    "number_imgs = 10"
   ]
  },
  {
   "cell_type": "code",
   "execution_count": null,
   "id": "e7f7e576",
   "metadata": {},
   "outputs": [],
   "source": [
    "# Assign path\n",
    "IMAGES_PATH = os.path.join('Tensorflow', 'workspace', 'images')"
   ]
  },
  {
   "cell_type": "code",
   "execution_count": null,
   "id": "ae75fafb",
   "metadata": {},
   "outputs": [],
   "source": [
    "# Create directory for the images\n",
    "if not os.path.exists(IMAGES_PATH):\n",
    "    if os.name == 'nt':\n",
    "         !mkdir {IMAGES_PATH}\n",
    "for label in labels:\n",
    "    path = os.path.join(IMAGES_PATH, label)\n",
    "    if not os.path.exists(path):\n",
    "        !mkdir {path}"
   ]
  },
  {
   "cell_type": "code",
   "execution_count": null,
   "id": "2d4320ef",
   "metadata": {},
   "outputs": [],
   "source": [
    "# Use local videocapture device to capture a image every 5 seconds untill it has taken an N amount\n",
    "for label in labels:\n",
    "    cap = cv2.VideoCapture(0)\n",
    "    print('Collecting images for {}'.format(label))\n",
    "    time.sleep(5)\n",
    "    for imgnum in range(number_imgs):\n",
    "        print('Collecting image {}'.format(imgnum))\n",
    "        ret, frame = cap.read()\n",
    "        imgname = os.path.join(IMAGES_PATH,label,label+'.'+'{}.jpg'.format(str(uuid.uuid1())))\n",
    "        cv2.imwrite(imgname, frame)\n",
    "        cv2.imshow('frame', frame)\n",
    "        time.sleep(5)\n",
    "\n",
    "        if cv2.waitKey(1) & 0xFF == ord('q'):\n",
    "            break\n",
    "cap.release()\n",
    "cv2.destroyAllWindows()"
   ]
  },
  {
   "cell_type": "code",
   "execution_count": null,
   "id": "220e52f8",
   "metadata": {},
   "outputs": [],
   "source": [
    "# Create path for labelimg project\n",
    "LABELIMG_PATH = os.path.join('Tensorflow', 'labelimg')"
   ]
  },
  {
   "cell_type": "code",
   "execution_count": null,
   "id": "e64d7c6f",
   "metadata": {},
   "outputs": [],
   "source": [
    "# Create directory for labelimg project and clone project\n",
    "if not os.path.exists(LABELIMG_PATH):\n",
    "    !mkdir {LABELIMG_PATH}\n",
    "    !git clone https://github.com/tzutalin/labelImg {LABELIMG_PATH}"
   ]
  },
  {
   "cell_type": "code",
   "execution_count": 1,
   "id": "d297f390",
   "metadata": {},
   "outputs": [
    {
     "name": "stderr",
     "output_type": "stream",
     "text": [
      "The system cannot find the path specified.\n",
      "The system cannot find the path specified.\n"
     ]
    }
   ],
   "source": [
    "# Start program to label images\n",
    "!cd {LABELIMG_PATH} && pyrcc5 -o libs/resources.py resources.qrc\n",
    "!cd {LABELIMG_PATH} && python labelImg.py"
   ]
  },
  {
   "cell_type": "markdown",
   "id": "8c6575bc",
   "metadata": {},
   "source": [
    "# After capturing and labeling images:"
   ]
  },
  {
   "cell_type": "markdown",
   "id": "ca61c827",
   "metadata": {},
   "source": [
    "Make a directory called 'train' and a directory called 'test' inside the 'images' directory"
   ]
  },
  {
   "cell_type": "markdown",
   "id": "95e23841",
   "metadata": {},
   "source": [
    "Move 80% of the images + labels in the 'train' directory"
   ]
  },
  {
   "cell_type": "markdown",
   "id": "51fd7247",
   "metadata": {},
   "source": [
    "Move the remaining images + labels in the 'test' directory"
   ]
  }
 ],
 "metadata": {
  "kernelspec": {
   "display_name": "imagerecognition",
   "language": "python",
   "name": "imagerecognition"
  },
  "language_info": {
   "codemirror_mode": {
    "name": "ipython",
    "version": 3
   },
   "file_extension": ".py",
   "mimetype": "text/x-python",
   "name": "python",
   "nbconvert_exporter": "python",
   "pygments_lexer": "ipython3",
   "version": "3.9.5"
  }
 },
 "nbformat": 4,
 "nbformat_minor": 5
}
